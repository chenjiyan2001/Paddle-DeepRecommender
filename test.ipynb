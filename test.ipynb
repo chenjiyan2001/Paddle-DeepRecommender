{
 "cells": [
  {
   "cell_type": "code",
   "execution_count": 30,
   "metadata": {},
   "outputs": [
    {
     "name": "stdout",
     "output_type": "stream",
     "text": [
      "******************************\n",
      "******************************\n",
      "[1000, 64, 128]\n",
      "Dropout drop probability: 0.0\n",
      "Encoder pass:\n",
      "torch.Size([64, 1000])\n",
      "torch.Size([64])\n",
      "torch.Size([128, 64])\n",
      "torch.Size([128])\n",
      "Decoder pass:\n",
      "torch.Size([64, 128])\n",
      "torch.Size([64])\n",
      "torch.Size([1000, 64])\n",
      "torch.Size([1000])\n",
      "******************************\n",
      "******************************\n",
      "[2021/12/05 13:54:31] root INFO: rmse: \n",
      "[2021/12/05 13:54:31] root INFO: \tmean diff: check passed: True, value: 6.343045768630873e-07\n",
      "[2021/12/05 13:54:31] root INFO: diff check passed\n"
     ]
    },
    {
     "name": "stderr",
     "output_type": "stream",
     "text": [
      "D:\\Anaconda3\\lib\\site-packages\\win32\\lib\\pywintypes.py:2: DeprecationWarning: the imp module is deprecated in favour of importlib; see the module's documentation for alternative uses\n",
      "  import imp, sys, os\n",
      "d:\\Desktop\\PaddleRec\\models\\rank\\deeprecommender\\pipline\\step5\\DR_torch\\model.py:72: UserWarning: nn.init.xavier_uniform is now deprecated in favor of nn.init.xavier_uniform_.\n",
      "  weight_init.xavier_uniform(w)\n"
     ]
    }
   ],
   "source": [
    "!cd pipline/step5 && python check_step5.py"
   ]
  },
  {
   "cell_type": "code",
   "execution_count": null,
   "metadata": {},
   "outputs": [],
   "source": []
  }
 ],
 "metadata": {
  "interpreter": {
   "hash": "a8f61be024eba58adef938c9aa1e29e02cb3dece83a5348b1a2dafd16a070453"
  },
  "kernelspec": {
   "display_name": "Python 3.8.10 64-bit ('base': conda)",
   "language": "python",
   "name": "python3"
  },
  "language_info": {
   "codemirror_mode": {
    "name": "ipython",
    "version": 3
   },
   "file_extension": ".py",
   "mimetype": "text/x-python",
   "name": "python",
   "nbconvert_exporter": "python",
   "pygments_lexer": "ipython3",
   "version": "3.8.10"
  },
  "orig_nbformat": 4
 },
 "nbformat": 4,
 "nbformat_minor": 2
}
